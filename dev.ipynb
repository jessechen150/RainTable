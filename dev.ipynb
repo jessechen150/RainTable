{
 "cells": [
  {
   "cell_type": "code",
   "execution_count": 1,
   "id": "4c9a8789",
   "metadata": {},
   "outputs": [],
   "source": [
    "import requests\n",
    "from urllib.parse import quote\n",
    "from credentials.creds import *"
   ]
  },
  {
   "cell_type": "code",
   "execution_count": 2,
   "id": "f9c8c776",
   "metadata": {},
   "outputs": [
    {
     "name": "stdout",
     "output_type": "stream",
     "text": [
      "Please enter an address: New England Aquarium, MA\n",
      "URL Encoded: New%20England%20Aquarium%2C%20MA\n"
     ]
    }
   ],
   "source": [
    "output = \"json\"\n",
    "address = quote(input(\"Please enter an address: \"))\n",
    "print(f\"URL Encoded: {address}\")"
   ]
  },
  {
   "cell_type": "code",
   "execution_count": 3,
   "id": "8c1f3030",
   "metadata": {},
   "outputs": [],
   "source": [
    "req = f\"https://maps.googleapis.com/maps/api/geocode/{output}?address={address}&key={geocoder_key}\"\n",
    "geocode = requests.get(req).json()"
   ]
  },
  {
   "cell_type": "code",
   "execution_count": 19,
   "id": "8c828118",
   "metadata": {},
   "outputs": [
    {
     "name": "stdout",
     "output_type": "stream",
     "text": [
      "Coordinates: (42.3592478, -71.0491475)\n"
     ]
    }
   ],
   "source": [
    "latitude = geocode['results'][0]['geometry']['location']['lat']\n",
    "longitude = geocode['results'][0]['geometry']['location']['lng']\n",
    "print(f\"Coordinates: ({latitude}, {longitude})\")"
   ]
  }
 ],
 "metadata": {
  "kernelspec": {
   "display_name": "Python 3 (ipykernel)",
   "language": "python",
   "name": "python3"
  },
  "language_info": {
   "codemirror_mode": {
    "name": "ipython",
    "version": 3
   },
   "file_extension": ".py",
   "mimetype": "text/x-python",
   "name": "python",
   "nbconvert_exporter": "python",
   "pygments_lexer": "ipython3",
   "version": "3.9.5"
  }
 },
 "nbformat": 4,
 "nbformat_minor": 5
}

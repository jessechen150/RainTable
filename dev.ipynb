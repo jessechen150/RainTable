{
 "cells": [
  {
   "cell_type": "markdown",
   "id": "37e59694",
   "metadata": {},
   "source": [
    "# Development Notebook"
   ]
  },
  {
   "cell_type": "code",
   "execution_count": 1,
   "id": "4c9a8789",
   "metadata": {},
   "outputs": [],
   "source": [
    "import requests\n",
    "from urllib.parse import quote\n",
    "from credentials.creds import *"
   ]
  },
  {
   "cell_type": "markdown",
   "id": "58fc5566",
   "metadata": {},
   "source": [
    "## Google Geocoder API\n",
    "\n",
    "Given address, find the latitude and longitude."
   ]
  },
  {
   "cell_type": "code",
   "execution_count": 2,
   "id": "f9c8c776",
   "metadata": {},
   "outputs": [
    {
     "name": "stdout",
     "output_type": "stream",
     "text": [
      "Please enter an address: acadia national park\n",
      "URL Encoded: acadia%20national%20park\n"
     ]
    }
   ],
   "source": [
    "output = \"json\"\n",
    "address = quote(input(\"Please enter an address: \"))\n",
    "print(f\"URL Encoded: {address}\")"
   ]
  },
  {
   "cell_type": "code",
   "execution_count": 3,
   "id": "8c1f3030",
   "metadata": {},
   "outputs": [],
   "source": [
    "req = f\"https://maps.googleapis.com/maps/api/geocode/{output}?address={address}&key={geocoder_key}\"\n",
    "geocode = requests.get(req).json()"
   ]
  },
  {
   "cell_type": "code",
   "execution_count": 4,
   "id": "8c828118",
   "metadata": {},
   "outputs": [
    {
     "name": "stdout",
     "output_type": "stream",
     "text": [
      "Coordinates: (44.3385559, -68.2733346)\n"
     ]
    }
   ],
   "source": [
    "lat = geocode['results'][0]['geometry']['location']['lat']\n",
    "lng = geocode['results'][0]['geometry']['location']['lng']\n",
    "print(f\"Coordinates: ({lat}, {lng})\")"
   ]
  },
  {
   "cell_type": "markdown",
   "id": "190b9795",
   "metadata": {},
   "source": [
    "## OpenWeatherMap API\n",
    "\n",
    "Given latitude and longitude, find weather forecast."
   ]
  },
  {
   "cell_type": "code",
   "execution_count": 5,
   "id": "7a9e98c8",
   "metadata": {},
   "outputs": [],
   "source": [
    "req = f\"https://api.openweathermap.org/data/3.0/onecall?lat={lat}&lon={lng}&units={'imperial'}&appid={weather_key}\"\n",
    "weather = requests.get(req).json()"
   ]
  },
  {
   "cell_type": "code",
   "execution_count": 6,
   "id": "c3ef4189",
   "metadata": {},
   "outputs": [
    {
     "data": {
      "text/plain": [
       "{'cod': 401,\n",
       " 'message': 'Invalid API key. Please see http://openweathermap.org/faq#error401 for more info.'}"
      ]
     },
     "execution_count": 6,
     "metadata": {},
     "output_type": "execute_result"
    }
   ],
   "source": [
    "weather"
   ]
  }
 ],
 "metadata": {
  "kernelspec": {
   "display_name": "Python 3 (ipykernel)",
   "language": "python",
   "name": "python3"
  },
  "language_info": {
   "codemirror_mode": {
    "name": "ipython",
    "version": 3
   },
   "file_extension": ".py",
   "mimetype": "text/x-python",
   "name": "python",
   "nbconvert_exporter": "python",
   "pygments_lexer": "ipython3",
   "version": "3.9.5"
  }
 },
 "nbformat": 4,
 "nbformat_minor": 5
}
